{
 "cells": [
  {
   "cell_type": "code",
   "execution_count": 1,
   "id": "bc351922",
   "metadata": {},
   "outputs": [
    {
     "name": "stdout",
     "output_type": "stream",
     "text": [
      "3 nilai terbaik: [95, 92, 91]\n"
     ]
    }
   ],
   "source": [
    "def cari_nilai_terbaik(data):\n",
    "    data_sorted = sorted(data, reverse=True)\n",
    "    return data_sorted[:3]\n",
    "data = [85, 92, 88, 78, 90, 95, 87, 84, 91]\n",
    "\n",
    "nilai_terbaik = cari_nilai_terbaik(data)\n",
    "\n",
    "print(\"3 nilai terbaik:\", nilai_terbaik)\n"
   ]
  },
  {
   "cell_type": "code",
   "execution_count": 2,
   "id": "62503db2",
   "metadata": {},
   "outputs": [
    {
     "name": "stdout",
     "output_type": "stream",
     "text": [
      "Masukkan angka (atau ketik 'done' untuk selesai): 30\n",
      "Masukkan angka (atau ketik 'done' untuk selesai): 45\n",
      "Masukkan angka (atau ketik 'done' untuk selesai): 23\n",
      "Masukkan angka (atau ketik 'done' untuk selesai): 90\n",
      "Masukkan angka (atau ketik 'done' untuk selesai): 47\n",
      "Masukkan angka (atau ketik 'done' untuk selesai): 21\n",
      "Masukkan angka (atau ketik 'done' untuk selesai): done\n",
      "Nilai maksimum: 90.0\n",
      "Nilai minimum: 21.0\n"
     ]
    }
   ],
   "source": [
    "numbers = []\n",
    "while True:\n",
    "    user_input = input(\"Masukkan angka (atau ketik 'done' untuk selesai): \")\n",
    "    if user_input == 'done':\n",
    "        break\n",
    "    try:\n",
    "        number = float(user_input)\n",
    "        numbers.append(number)\n",
    "    except ValueError:\n",
    "        print(\"Masukan tidak valid. Masukkan angka atau ketik 'done' untuk selesai.\")\n",
    "\n",
    "if numbers:\n",
    "    print(\"Nilai maksimum:\", max(numbers))\n",
    "    print(\"Nilai minimum:\", min(numbers))\n",
    "else:\n",
    "    print(\"Tidak ada angka yang dimasukkan.\")"
   ]
  },
  {
   "cell_type": "code",
   "execution_count": null,
   "id": "a005380d",
   "metadata": {},
   "outputs": [],
   "source": [
    "file = open(\"file_berita.txt\")\n",
    "\n",
    "base = \"\"\n",
    "\n",
    "for i in file:\n",
    "    for j in i:\n",
    "        if j.isalpha() or j.isdigit() or j == \" \":\n",
    "            base += j\n",
    "            \n",
    "base = base.split()\n",
    "\n",
    "print(base)"
   ]
  }
 ],
 "metadata": {
  "kernelspec": {
   "display_name": "Python 3 (ipykernel)",
   "language": "python",
   "name": "python3"
  },
  "language_info": {
   "codemirror_mode": {
    "name": "ipython",
    "version": 3
   },
   "file_extension": ".py",
   "mimetype": "text/x-python",
   "name": "python",
   "nbconvert_exporter": "python",
   "pygments_lexer": "ipython3",
   "version": "3.11.5"
  }
 },
 "nbformat": 4,
 "nbformat_minor": 5
}
